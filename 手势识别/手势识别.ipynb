{
 "cells": [
  {
   "cell_type": "code",
   "execution_count": 1,
   "metadata": {
    "collapsed": false,
    "jupyter": {
     "outputs_hidden": false
    }
   },
   "outputs": [
    {
     "name": "stdout",
     "output_type": "stream",
     "text": [
      "data23668\n"
     ]
    }
   ],
   "source": [
    "# 查看当前挂载的数据集目录, 该目录下的变更重启环境后会自动还原\n",
    "# View dataset directory. This directory will be recovered automatically after resetting environment. \n",
    "!ls /home/aistudio/data"
   ]
  },
  {
   "cell_type": "code",
   "execution_count": 2,
   "metadata": {
    "collapsed": false,
    "jupyter": {
     "outputs_hidden": false
    }
   },
   "outputs": [],
   "source": [
    "# 查看工作区文件, 该目录下的变更将会持久保存. 请及时清理不必要的文件, 避免加载过慢.\n",
    "# View personal work directory. All changes under this directory will be kept even after reset. Please clean unnecessary files in time to speed up environment loading.\n",
    "!ls /home/aistudio/work"
   ]
  },
  {
   "cell_type": "code",
   "execution_count": 45,
   "metadata": {
    "collapsed": false,
    "jupyter": {
     "outputs_hidden": false
    }
   },
   "outputs": [
    {
     "name": "stdout",
     "output_type": "stream",
     "text": [
      "Cloning into 'paddle_seven_days'...\n",
      "remote: Enumerating objects: 3, done.\u001b[K\n",
      "remote: Counting objects: 100% (3/3), done.\u001b[K\n",
      "remote: Total 3 (delta 0), reused 0 (delta 0), pack-reused 0\u001b[K\n",
      "Unpacking objects: 100% (3/3), done.\n",
      "Checking connectivity... done.\n"
     ]
    }
   ],
   "source": [
    "# !git clone https://github.com/mmmmmmiracle/paddle_seven_days.git\n",
    "! cp *.*"
   ]
  },
  {
   "cell_type": "code",
   "execution_count": 3,
   "metadata": {
    "collapsed": false,
    "jupyter": {
     "outputs_hidden": false
    }
   },
   "outputs": [],
   "source": [
    "\n",
    "!cd /home/aistudio/data/data23668 && unzip -qo Dataset.zip\n",
    "!cd /home/aistudio/data/data23668/Dataset && rm -f */.DS_Store # 删除无关文件 \n"
   ]
  },
  {
   "cell_type": "code",
   "execution_count": 33,
   "metadata": {
    "collapsed": false,
    "jupyter": {
     "outputs_hidden": false
    }
   },
   "outputs": [],
   "source": [
    "import os\n",
    "import time\n",
    "import random\n",
    "import numpy as np\n",
    "from PIL import Image\n",
    "import matplotlib.pyplot as plt\n",
    "import paddle\n",
    "import paddle.fluid as fluid\n",
    "import paddle.fluid.layers as layers\n",
    "from multiprocessing import cpu_count\n",
    "from paddle.fluid.dygraph import Pool2D,Conv2D\n",
    "from paddle.fluid.dygraph import Linear,Sequential,BatchNorm, CosineDecay\n",
    "import albumentations as albu"
   ]
  },
  {
   "cell_type": "code",
   "execution_count": 35,
   "metadata": {
    "collapsed": false,
    "jupyter": {
     "outputs_hidden": false
    }
   },
   "outputs": [],
   "source": [
    "# !pip install albumentations"
   ]
  },
  {
   "cell_type": "code",
   "execution_count": 34,
   "metadata": {
    "collapsed": false,
    "jupyter": {
     "outputs_hidden": false
    }
   },
   "outputs": [
    {
     "name": "stdout",
     "output_type": "stream",
     "text": [
      "列表已生成\n"
     ]
    }
   ],
   "source": [
    "\n",
    "# 生成图像列表\n",
    "data_path = '/home/aistudio/data/data23668/Dataset'\n",
    "character_folders = os.listdir(data_path)\n",
    "# print(character_folders)\n",
    "if(os.path.exists('./train_data.list')):\n",
    "    os.remove('./train_data.list')\n",
    "if(os.path.exists('./test_data.list')):\n",
    "    os.remove('./test_data.list')\n",
    "    \n",
    "for character_folder in character_folders:\n",
    "    \n",
    "    with open('./train_data.list', 'a') as f_train:\n",
    "        with open('./test_data.list', 'a') as f_test:\n",
    "            if character_folder == '.DS_Store':\n",
    "                continue\n",
    "            character_imgs = os.listdir(os.path.join(data_path,character_folder))\n",
    "            count = 0 \n",
    "            for img in character_imgs:\n",
    "                if img =='.DS_Store':\n",
    "                    continue\n",
    "                if count%10 == 0:\n",
    "                    f_test.write(os.path.join(data_path,character_folder,img) + '\\t' + character_folder + '\\n')\n",
    "                else:\n",
    "                    f_train.write(os.path.join(data_path,character_folder,img) + '\\t' + character_folder + '\\n')\n",
    "                count +=1\n",
    "print('列表已生成')\n"
   ]
  },
  {
   "cell_type": "code",
   "execution_count": 36,
   "metadata": {
    "collapsed": false,
    "jupyter": {
     "outputs_hidden": false
    }
   },
   "outputs": [
    {
     "data": {
      "text/plain": [
       "array([7, 6, 1, 9, 5, 8, 9, 3, 2, 2, 8, 5, 4, 7, 7, 6, 5, 4, 3, 3, 3, 9,\n",
       "       2, 4, 7, 3, 2, 4, 2, 8, 3, 3])"
      ]
     },
     "execution_count": 36,
     "metadata": {},
     "output_type": "execute_result"
    }
   ],
   "source": [
    "def ricap(X, y):\n",
    "    '''\n",
    "        功能：图像增强，Random Image Cropping and Patching\n",
    "        参数：\n",
    "            X：batch imgs\n",
    "            y: batch labels\n",
    "        超参：\n",
    "            beta: beta分布的alpha和beta参数，这个可以自己设置，并观察结果\n",
    "        引用：\n",
    "            Data Augmentation using Random Image Cropping and Patching for Deep CNNs(https://arxiv.org/abs/1811.09030v1)\n",
    "    '''\n",
    "    beta = 0.1\n",
    "    I_x, I_y = X.shape[2:]\n",
    "    w = int(np.round(I_x * np.random.beta(beta, beta)))\n",
    "    h = int(np.round(I_y * np.random.beta(beta, beta)))\n",
    "    w_ = [w, I_x - w, w, I_x - w]\n",
    "    h_ = [h, h, I_y - h, I_y - h]\n",
    "    cropped_images = {}\n",
    "    c_ = {}\n",
    "    W_ = {}\n",
    "    for k in range(4):\n",
    "        index = np.arange(X.shape[0])\n",
    "        np.random.shuffle(index)\n",
    "        x_k = np.random.randint(0, I_x - w_[k] + 1)\n",
    "        y_k = np.random.randint(0, I_y - h_[k] + 1)\n",
    "        cropped_images[k] = X[index][:, :, x_k:x_k + w_[k], y_k:y_k + h_[k]]\n",
    "        c_[k] = y[index]\n",
    "        W_[k] = w_[k] * h_[k] / (I_x * I_y)\n",
    "    patched_images = np.concatenate(\n",
    "        (np.concatenate((cropped_images[0], cropped_images[1]), 2),\n",
    "        np.concatenate((cropped_images[2], cropped_images[3]), 2)), 3)\n",
    "    return patched_images, y, W_, c_\n",
    "\n",
    "def mixup(X, y):\n",
    "    '''\n",
    "        功能：图像增强，mixup\n",
    "        参数：\n",
    "            X：batch imgs\n",
    "            y: batch labels\n",
    "        超参：\n",
    "            beta: beta分布的alpha和beta参数，这个可以自己设置，并观察结果\n",
    "        引用：\n",
    "            mixup: Beyond Empirical Risk Minimization(https://arxiv.org/abs/1710.09412)\n",
    "    '''\n",
    "    mixup_alpha = 0.1\n",
    "    seed = np.random.beta(mixup_alpha, mixup_alpha)\n",
    "    index = np.arange(X.shape[0])\n",
    "    np.random.shuffle(index)\n",
    "    images_a, images_b = X, X[index]\n",
    "    labels_a, labels_b = y, y[index]\n",
    "    mixed_images = seed * images_a + (1 - seed) * images_b\n",
    "    return mixed_images, labels_a, labels_b, seed\n",
    "\n",
    "\n",
    "a = np.zeros((32, 3, 128, 128))\n",
    "b = np.random.randint(0,10,32)\n",
    "mixup(a,b)[2]"
   ]
  },
  {
   "cell_type": "code",
   "execution_count": 37,
   "metadata": {
    "collapsed": false,
    "jupyter": {
     "outputs_hidden": false
    }
   },
   "outputs": [],
   "source": [
    "# 定义训练集和测试集的reader\n",
    "FIG_SIZE = 100\n",
    "# def data_mapper(sample):\n",
    "#     img, label = sample\n",
    "#     img = Image.open(img)\n",
    "#     img = img.resize((FIG_SIZE, FIG_SIZE), Image.ANTIALIAS)\n",
    "#     img = np.array(img).astype('float32')\n",
    "#     img = img.transpose((2, 0, 1))\n",
    "#     img = img/255.0\n",
    "#     return img, label\n",
    "\n",
    "# def data_reader(data_list_path):\n",
    "#     def reader():\n",
    "#         with open(data_list_path, 'r') as f:\n",
    "#             lines = f.readlines()\n",
    "#             for line in lines:\n",
    "#                 img, label = line.split('\\t')\n",
    "#                 yield img, int(label)\n",
    "#     return paddle.reader.xmap_readers(data_mapper, reader, cpu_count(), 512)\n",
    " \n",
    "def train_aug(p=0.5):\n",
    "    return albu.Compose([\n",
    "        # albu.RandomResizedCrop(FIG_SIZE, FIG_SIZE,p=0.5),\n",
    "        albu.Cutout(p=0.5),   \n",
    "        # albu.Normalize(),\n",
    "    ], p=p)\n",
    "\n",
    "def test_aug():\n",
    "    return albu.Compose([\n",
    "        # albu.Normalize(),\n",
    "    ], p=1)\n",
    "\n",
    "# 定义训练集和测试集的reader\n",
    "def train_data_mapper(sample):\n",
    "    img, label = sample\n",
    "    img = Image.open(img)\n",
    "    img = img.resize((FIG_SIZE, FIG_SIZE), Image.ANTIALIAS)\n",
    "    \n",
    "    r1 = random.random()\n",
    "    if r1 > 0.5:\n",
    "        img = img.transpose(Image.FLIP_LEFT_RIGHT)\n",
    "    # 随机垂直翻转\n",
    "    r2 = random.random()\n",
    "    if r2 > 0.5:\n",
    "        img = img.transpose(Image.FLIP_TOP_BOTTOM)\n",
    "    # 随机角度翻转\n",
    "    r3 = random.randint(-3, 3)\n",
    "    img = img.rotate(r3, expand=False)\n",
    "\n",
    "    img = np.array(img).astype(np.float32)\n",
    "    img = img / 255.0\n",
    "\n",
    "    # aug = train_aug()\n",
    "    # img = aug(**{'image':img})['image']\n",
    "\n",
    "    img = img.transpose((2, 0, 1))\n",
    "    return img, int(label)\n",
    "\n",
    "def test_data_mapper(sample):\n",
    "    img, label = sample\n",
    "    img = Image.open(img)\n",
    "    img = img.resize((FIG_SIZE, FIG_SIZE), Image.ANTIALIAS)\n",
    "    \n",
    "    img = np.array(img).astype(np.float32)\n",
    "    img = img / 255.0\n",
    "\n",
    "    # aug = test_aug()\n",
    "    # img = aug(**{'image':img})['image']\n",
    "\n",
    "    img = img.transpose((2, 0, 1))\n",
    "    return img, int(label)\n",
    "\n",
    "def data_reader(data_list_path, is_train=True):\n",
    "    def reader():\n",
    "        with open(data_list_path, 'r') as f:\n",
    "            lines = f.readlines()\n",
    "            for line in lines:\n",
    "                img, label = line.split('\\t')\n",
    "                yield img, int(label)\n",
    "    data_mapper = None\n",
    "    if is_train:\n",
    "        data_mapper = train_data_mapper\n",
    "    else:\n",
    "        data_mapper = test_data_mapper\n",
    "    return paddle.reader.xmap_readers(data_mapper, reader, cpu_count(), 51200)\n"
   ]
  },
  {
   "cell_type": "code",
   "execution_count": 38,
   "metadata": {
    "collapsed": false,
    "jupyter": {
     "outputs_hidden": false
    }
   },
   "outputs": [],
   "source": [
    "# 用于训练的数据提供器\n",
    "train_reader = paddle.batch(reader=paddle.reader.shuffle(reader=data_reader('./train_data.list'), buf_size=25600), batch_size=32)\n",
    "# 用于测试的数据提供器\n",
    "test_reader = paddle.batch(reader=data_reader('./test_data.list',False), batch_size=32) \n"
   ]
  },
  {
   "cell_type": "code",
   "execution_count": 39,
   "metadata": {
    "collapsed": false,
    "jupyter": {
     "outputs_hidden": false
    }
   },
   "outputs": [],
   "source": [
    "#定义DNN网络\n",
    "#ResNet18\n",
    "class Residual(fluid.dygraph.Layer):\n",
    "    #可以设定输出通道数、是否使用额外的1x1卷积层来修改通道数以及卷积层的步幅。\n",
    "    def __init__(self, in_channels, out_channels, use_1x1conv=False, stride=1):\n",
    "        super(Residual, self).__init__()\n",
    "        self.conv1 = Conv2D(in_channels, out_channels, 3, padding=1, stride=stride)\n",
    "        self.conv2 = Conv2D(out_channels, out_channels, 3, padding=1)\n",
    "        if use_1x1conv:\n",
    "            self.conv3 = Conv2D(in_channels, out_channels, 1, stride=stride)\n",
    "        else:\n",
    "            self.conv3 = None\n",
    "        self.bn1 = BatchNorm(out_channels, act='relu')\n",
    "        self.bn2 = BatchNorm(out_channels)\n",
    "\n",
    "    def forward(self, X):\n",
    "        Y = self.bn1(self.conv1(X))\n",
    "        Y = self.bn2(self.conv2(Y))\n",
    "        if self.conv3:\n",
    "            X = self.conv3(X)\n",
    "        return layers.relu(Y + X)\n",
    "\n",
    "class ResBlock(fluid.dygraph.Layer):\n",
    "    def __init__(self, in_channels, out_channels, num_rediduals, first_block=False):\n",
    "        super(ResBlock, self).__init__()\n",
    "        if first_block:\n",
    "            assert in_channels == out_channels # 第一个模块的通道数同输入通道数一致\n",
    "        block = []\n",
    "        for i in range(num_rediduals):\n",
    "            block.append(Residual(in_channels, out_channels, use_1x1conv=not first_block, stride=2-int(first_block)))\n",
    "            in_channels = out_channels\n",
    "        self.resi_block = Sequential(*block)\n",
    "\n",
    "    def forward(self, X):\n",
    "        return self.resi_block(X)\n",
    "\n",
    "class ResNet(fluid.dygraph.Layer):\n",
    "    def __init__(self, *, channels, fig_size, num_class):\n",
    "        super(ResNet, self).__init__()\n",
    "        self.conv = Sequential(\n",
    "            Conv2D(channels, 32, 7, 2, 3),\n",
    "            BatchNorm(32, act='relu'),\n",
    "        )\n",
    "        self.res_block_arch = [(32, 32, 2, True), (32, 64, 2), (64, 128, 2), (128, 256, 2)]\n",
    "        self.res_blocks = Sequential()\n",
    "        for i, arch in enumerate(self.res_block_arch):\n",
    "            self.res_blocks.add_sublayer(f'res_block_{i+1}', ResBlock(*arch))\n",
    "        self.global_avg_pool = Pool2D(pool_type='avg',global_pooling=True)\n",
    "        self.fc =Linear(256, num_class, act='softmax')\n",
    "\n",
    "    def forward(self, X):\n",
    "        conv_features = layers.pool2d(self.conv(X),2,'max',2)\n",
    "        res_features = self.res_blocks(conv_features)\n",
    "        global_avg_pool = self.global_avg_pool(res_features)\n",
    "        global_avg_pool = layers.flatten(global_avg_pool)\n",
    "        y = self.fc(global_avg_pool)\n",
    "        return y"
   ]
  },
  {
   "cell_type": "code",
   "execution_count": 40,
   "metadata": {
    "collapsed": false,
    "jupyter": {
     "outputs_hidden": false
    }
   },
   "outputs": [
    {
     "name": "stdout",
     "output_type": "stream",
     "text": [
      "train_pass:0,train_loss:[2.8470898],train_acc:[0.18080358]\n",
      "train_pass:1,train_loss:[1.7136889],train_acc:[0.40509543]\n",
      "train_pass:2,train_loss:[1.2842858],train_acc:[0.55849755]\n",
      "train_pass:3,train_loss:[0.94704664],train_acc:[0.67302954]\n",
      "train_pass:4,train_loss:[0.76377386],train_acc:[0.7339132]\n",
      "train_pass:5,train_loss:[0.6521646],train_acc:[0.7814809]\n",
      "train_pass:6,train_loss:[0.53824836],train_acc:[0.81149936]\n",
      "train_pass:7,train_loss:[0.45140898],train_acc:[0.851601]\n",
      "train_pass:8,train_loss:[0.39780933],train_acc:[0.8613762]\n",
      "train_pass:9,train_loss:[0.38118583],train_acc:[0.869843]\n",
      "train_pass:10,train_loss:[0.3578642],train_acc:[0.8784637]\n",
      "train_pass:11,train_loss:[0.25195798],train_acc:[0.9194889]\n",
      "train_pass:12,train_loss:[0.24662],train_acc:[0.9201046]\n",
      "train_pass:13,train_loss:[0.22872332],train_acc:[0.9254926]\n",
      "train_pass:14,train_loss:[0.21304429],train_acc:[0.9324969]\n",
      "train_pass:15,train_loss:[0.17837381],train_acc:[0.9433498]\n",
      "train_pass:16,train_loss:[0.18178277],train_acc:[0.9415794]\n",
      "train_pass:17,train_loss:[0.14801727],train_acc:[0.95081586]\n",
      "train_pass:18,train_loss:[0.14619808],train_acc:[0.95689654]\n",
      "train_pass:19,train_loss:[0.13753608],train_acc:[0.95451045]\n",
      "train_pass:20,train_loss:[0.13285056],train_acc:[0.9562808]\n",
      "train_pass:21,train_loss:[0.13855031],train_acc:[0.955742]\n",
      "train_pass:22,train_loss:[0.09952684],train_acc:[0.97082824]\n",
      "train_pass:23,train_loss:[0.10421793],train_acc:[0.9692118]\n",
      "train_pass:24,train_loss:[0.08351909],train_acc:[0.9783713]\n",
      "train_pass:25,train_loss:[0.07015438],train_acc:[0.9798337]\n",
      "train_pass:26,train_loss:[0.08153829],train_acc:[0.97506154]\n",
      "train_pass:27,train_loss:[0.08100844],train_acc:[0.9784483]\n",
      "train_pass:28,train_loss:[0.07370726],train_acc:[0.98060346]\n",
      "train_pass:29,train_loss:[0.06392763],train_acc:[0.9859144]\n",
      "train_pass:30,train_loss:[0.07344084],train_acc:[0.9854526]\n",
      "train_pass:31,train_loss:[0.0525705],train_acc:[0.9875308]\n",
      "train_pass:32,train_loss:[0.06037604],train_acc:[0.9826817]\n",
      "train_pass:33,train_loss:[0.05508125],train_acc:[0.98599136]\n",
      "train_pass:34,train_loss:[0.05357256],train_acc:[0.98491377]\n",
      "train_pass:35,train_loss:[0.05626043],train_acc:[0.9876078]\n",
      "train_pass:36,train_loss:[0.06368107],train_acc:[0.9805265]\n",
      "train_pass:37,train_loss:[0.05702582],train_acc:[0.9854526]\n",
      "train_pass:38,train_loss:[0.0562079],train_acc:[0.9854526]\n",
      "train_pass:39,train_loss:[0.0520661],train_acc:[0.9897629]\n",
      "train_pass:40,train_loss:[0.04664532],train_acc:[0.9891472]\n",
      "train_pass:41,train_loss:[0.04902881],train_acc:[0.9876078]\n",
      "train_pass:42,train_loss:[0.05241613],train_acc:[0.9854526]\n",
      "train_pass:43,train_loss:[0.05457795],train_acc:[0.98206586]\n",
      "train_pass:44,train_loss:[0.04973697],train_acc:[0.9879926]\n",
      "train_pass:45,train_loss:[0.05337555],train_acc:[0.9902248]\n",
      "train_pass:46,train_loss:[0.05349894],train_acc:[0.98814654]\n",
      "train_pass:47,train_loss:[0.04455757],train_acc:[0.99230295]\n",
      "train_pass:48,train_loss:[0.05120247],train_acc:[0.98645324]\n",
      "train_pass:49,train_loss:[0.05496421],train_acc:[0.9832974]\n"
     ]
    }
   ],
   "source": [
    "EPOCH = 50\n",
    "#用动态图进行训练\n",
    "train_losses = []\n",
    "train_accs = []\n",
    "with fluid.dygraph.guard():\n",
    "    # model=MyDNN() #模型实例化\n",
    "    model = ResNet(channels=3, fig_size=FIG_SIZE, num_class=10)\n",
    "    model.train() #训练模式\n",
    "    opt=fluid.optimizer.SGDOptimizer(\n",
    "        learning_rate=CosineDecay(0.0125, EPOCH, EPOCH), \n",
    "        parameter_list=model.parameters())#优化器选用SGD随机梯度下降，学习率为0.001.\n",
    "\n",
    "    epochs_num=EPOCH #迭代次数\n",
    "    \n",
    "    for pass_num in range(epochs_num):\n",
    "        \n",
    "        n = 0\n",
    "        L = 0\n",
    "        accuracy = 0\n",
    "        for batch_id,data in enumerate(train_reader()):\n",
    "            \n",
    "            images=np.array([x[0].reshape(3,FIG_SIZE,FIG_SIZE) for x in data],np.float32)\n",
    "            \n",
    "            labels = np.array([x[1] for x in data]).astype('int64')\n",
    "            # images, labels, W_, c_ = ricap(images, labels)  # ricap data aug\n",
    "            # images, labels_a, labels_b, seed = mixup(images, labels)\n",
    "            # print(images.shape, labels.shape, W_, c_)\n",
    "            labels = labels[:, np.newaxis]\n",
    "            # print(images.shape)\n",
    "            image=fluid.dygraph.to_variable(images)\n",
    "            label=fluid.dygraph.to_variable(labels)\n",
    "            predict=model(image)#预测\n",
    "            # print(predict)\n",
    "            loss=fluid.layers.cross_entropy(predict,label)\n",
    "            # print(np.sum(predict.numpy()[0]))\n",
    "            # loss = layers.sum([W_[k] * fluid.layers.cross_entropy(predict, layers.unsqueeze(fluid.dygraph.to_variable(c_[k]),[1])) for k in range(4)])  # ricap loss\n",
    "            # loss = seed * fluid.layers.cross_entropy(predict, fluid.dygraph.to_variable(labels_a)) + (1 - seed) * fluid.layers.cross_entropy(predict, fluid.dygraph.to_variable(labels_b))\n",
    "            # print(predict.numpy())\n",
    "            avg_loss=fluid.layers.mean(loss)#获取loss值\n",
    "            acc=fluid.layers.accuracy(predict,label)#计算精度\n",
    "            # acc = layers.sum([W_[k] * fluid.layers.accuracy(predict, layers.unsqueeze(fluid.dygraph.to_variable(c_[k]),[1])) for k in range(4)]) # ricap acc\n",
    "            # acc = seed * fluid.layers.accuracy(predict, layers.unsqueeze(fluid.dygraph.to_variable(labels_a), axes=[1])) + (1 - seed) * fluid.layers.accuracy(predict, layers.unsqueeze(fluid.dygraph.to_variable(labels_b),axes=[1]))\n",
    "            \n",
    "            # if batch_id!=0 and batch_id%50==0:\n",
    "            #     print(\"train_pass:{},batch_id:{},train_loss:{},train_acc:{}\".format(pass_num,batch_id,avg_loss.numpy(),acc.numpy()))\n",
    "            #     train_losses.append(avg_loss.numpy())\n",
    "            #     train_accs.append(acc.numpy())\n",
    "            n += 1\n",
    "            L += avg_loss.numpy()\n",
    "            accuracy += acc.numpy()\n",
    "            \n",
    "            avg_loss.backward()\n",
    "            opt.minimize(avg_loss)\n",
    "            model.clear_gradients()\n",
    "\n",
    "        print(\"train_pass:{},train_loss:{},train_acc:{}\".format(pass_num,L/n,accuracy / n))\n",
    "        train_losses.append(L/n)\n",
    "        train_accs.append(accuracy/n) \n",
    "    fluid.save_dygraph(model.state_dict(),'MyDNN')#保存模型\n",
    " "
   ]
  },
  {
   "cell_type": "code",
   "execution_count": null,
   "metadata": {
    "collapsed": false,
    "jupyter": {
     "outputs_hidden": false
    }
   },
   "outputs": [],
   "source": [
    "# print(train_losses)"
   ]
  },
  {
   "cell_type": "code",
   "execution_count": 41,
   "metadata": {
    "collapsed": false,
    "jupyter": {
     "outputs_hidden": false
    }
   },
   "outputs": [
    {
     "data": {
      "image/png": "[encoded data removed]",
      "text/plain": [
       "<Figure size 1152x360 with 2 Axes>"
      ]
     },
     "metadata": {},
     "output_type": "display_data"
    }
   ],
   "source": [
    "import matplotlib.pyplot as plt\n",
    "%matplotlib inline\n",
    "plt.figure(figsize=(16,5))\n",
    "plt.subplot(121)\n",
    "plt.plot(train_losses)\n",
    "plt.title('loss')\n",
    "plt.subplot(122)\n",
    "plt.plot(train_accs)\n",
    "plt.title('acc')\n",
    "plt.savefig('random_flip.png')\n",
    "plt.show()"
   ]
  },
  {
   "cell_type": "code",
   "execution_count": 42,
   "metadata": {
    "collapsed": false,
    "jupyter": {
     "outputs_hidden": false
    }
   },
   "outputs": [
    {
     "name": "stdout",
     "output_type": "stream",
     "text": [
      "current test batch accuracy [0.9375]\n",
      "current test batch accuracy [0.9375]\n",
      "current test batch accuracy [0.9375]\n",
      "current test batch accuracy [0.96875]\n",
      "current test batch accuracy [0.96875]\n",
      "current test batch accuracy [0.8125]\n",
      "current test batch accuracy [0.7777778]\n",
      "0.90575397\n"
     ]
    }
   ],
   "source": [
    "#模型校验\n",
    "with fluid.dygraph.guard():\n",
    "    accs = []\n",
    "    model_dict, _ = fluid.load_dygraph('MyDNN')\n",
    "    model = ResNet(channels=3, fig_size=FIG_SIZE, num_class=10)\n",
    "    model.load_dict(model_dict) #加载模型参数\n",
    "    model.eval() #训练模式\n",
    "    for batch_id,data in enumerate(test_reader()):#测试集\n",
    "        images=np.array([x[0].reshape(3,FIG_SIZE,FIG_SIZE) for x in data],np.float32)\n",
    "        labels = np.array([x[1] for x in data]).astype('int64')\n",
    "        labels = labels[:, np.newaxis]\n",
    "\n",
    "        image=fluid.dygraph.to_variable(images)\n",
    "        label=fluid.dygraph.to_variable(labels)\n",
    "        \n",
    "        predict=model(image)       \n",
    "        acc=fluid.layers.accuracy(predict,label)\n",
    "        accs.append(acc.numpy()[0])\n",
    "        print('current test batch accuracy',acc.numpy())\n",
    "        avg_acc = np.mean(accs)\n",
    "    print(avg_acc)"
   ]
  },
  {
   "cell_type": "code",
   "execution_count": null,
   "metadata": {
    "collapsed": false,
    "jupyter": {
     "outputs_hidden": false
    }
   },
   "outputs": [],
   "source": []
  },
  {
   "cell_type": "markdown",
   "metadata": {},
   "source": [
    "# 实验结果\n",
    "\n",
    "| model | data aug | acc |\n",
    "| -------- | -------- | -------- |\n",
    "| resnet18 | RANDOM FLIP     | 0.90575397  |\n",
    "| resnet18 | RICAP     | 0.97172624  |\n",
    "| resnet18 | CUTOUT     | 0.91914684  |\n",
    "| resnet18 | MIXUP     | 0.88789684  |\n",
    "| resnet18 | MIXUP + CUTOUT   | 0.9236111  |\n",
    "\n",
    "> 实验中优化器选的是SGDOptimizer(通常SGD能达到较好的后期效果，但是收敛速度较慢)，学习率调整策略是CosineDecay,初始化lr = 0.1 * (32 / 256), 32为我设置的batch_size 大小"
   ]
  },
  {
   "cell_type": "code",
   "execution_count": null,
   "metadata": {
    "collapsed": false,
    "jupyter": {
     "outputs_hidden": false
    }
   },
   "outputs": [
    {
     "name": "stdout",
     "output_type": "stream",
     "text": [
      "(3, 100, 100)\n",
      "5\n"
     ]
    },
    {
     "data": {
      "image/png": "[encoded data removed]",
      "text/plain": [
       "<PIL.JpegImagePlugin.JpegImageFile image mode=RGB size=100x100 at 0x7F3BADC74F90>"
      ]
     },
     "metadata": {},
     "output_type": "display_data"
    }
   ],
   "source": [
    "#读取预测图像，进行预测\n",
    "\n",
    "def load_image(path):\n",
    "    img = Image.open(path)\n",
    "    img = img.resize((100, 100), Image.ANTIALIAS)\n",
    "    img = np.array(img).astype('float32')\n",
    "    img = img.transpose((2, 0, 1))\n",
    "    img = img/255.0\n",
    "    print(img.shape)\n",
    "    return img\n",
    "\n",
    "#构建预测动态图过程\n",
    "with fluid.dygraph.guard():\n",
    "    infer_path = '手势.JPG'\n",
    "    model=ResNet(channels=3, fig_size=FIG_SIZE, num_class=10)#模型实例化\n",
    "    model_dict,_=fluid.load_dygraph('MyDNN')\n",
    "    model.load_dict(model_dict)#加载模型参数\n",
    "    model.eval()#评估模式\n",
    "    infer_img = load_image(infer_path)\n",
    "    infer_img=np.array(infer_img).astype('float32')\n",
    "    infer_img=infer_img[np.newaxis,:, : ,:]\n",
    "    infer_img = fluid.dygraph.to_variable(infer_img)\n",
    "    result=model(infer_img)\n",
    "    display(Image.open('手势.JPG'))\n",
    "    print(np.argmax(result.numpy()))"
   ]
  },
  {
   "cell_type": "code",
   "execution_count": null,
   "metadata": {
    "collapsed": false,
    "jupyter": {
     "outputs_hidden": false
    }
   },
   "outputs": [],
   "source": []
  },
  {
   "cell_type": "code",
   "execution_count": null,
   "metadata": {
    "collapsed": false,
    "jupyter": {
     "outputs_hidden": false
    }
   },
   "outputs": [],
   "source": []
  }
 ],
 "metadata": {
  "kernelspec": {
   "display_name": "Python 3",
   "language": "python",
   "name": "python3"
  },
  "language_info": {
   "codemirror_mode": {
    "name": "ipython",
    "version": 3
   },
   "file_extension": ".py",
   "mimetype": "text/x-python",
   "name": "python",
   "nbconvert_exporter": "python",
   "pygments_lexer": "ipython3",
   "version": "3.7.4"
  }
 },
 "nbformat": 4,
 "nbformat_minor": 4
}
