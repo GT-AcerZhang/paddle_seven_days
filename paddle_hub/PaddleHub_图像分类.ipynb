{
 "cells": [
  {
   "cell_type": "markdown",
   "metadata": {
    "collapsed": false
   },
   "source": [
    "# 如何使用PaddleHub进行图像分类\n",
    "# 简介\n",
    "\n",
    "图像分类是计算机视觉的重要领域，它的目标是将图像分类到预定义的标签。近期，许多研究者提出很多不同种类的神经网络，并且极大的提升了分类算法的性能。本文以Kaggle的猫狗分类数据集为例子，介绍如何使用PaddleHub进行图像分类。\n",
    "\n"
   ]
  },
  {
   "cell_type": "code",
   "execution_count": 3,
   "metadata": {
    "collapsed": false
   },
   "outputs": [
    {
     "name": "stdout",
     "output_type": "stream",
     "text": [
      "/opt/conda/envs/python35-paddle120-env/lib/python3.7/site-packages/sklearn/externals/joblib/externals/cloudpickle/cloudpickle.py:47: DeprecationWarning: the imp module is deprecated in favour of importlib; see the module's documentation for alternative uses\n",
      "  import imp\n",
      "2020-04-04 18:01:30,310-INFO: font search path ['/opt/conda/envs/python35-paddle120-env/lib/python3.7/site-packages/matplotlib/mpl-data/fonts/ttf', '/opt/conda/envs/python35-paddle120-env/lib/python3.7/site-packages/matplotlib/mpl-data/fonts/afm', '/opt/conda/envs/python35-paddle120-env/lib/python3.7/site-packages/matplotlib/mpl-data/fonts/pdfcorefonts']\n",
      "2020-04-04 18:01:30,646-INFO: generated new fontManager\n",
      "\n",
      "+--------------------------------+----------+----------+---------------------------+\n",
      "|          \u001b[1;32mResourceName\u001b[0m          |   \u001b[1;32mType\u001b[0m   | \u001b[1;32mVersion\u001b[0m  |          \u001b[1;32mSummary\u001b[0m          |\n",
      "+--------------------------------+----------+----------+---------------------------+\n",
      "|     \u001b[1;33mresnet_v2_50_imagenet\u001b[0m      |  Module  |  1.0.1   |ResNet50 is a image class  |\n",
      "|                                |          |          |fication model trained wi  |\n",
      "|                                |          |          |th ImageNet-2012 dataset.  |\n",
      "|                                |          |          |                           |\n",
      "+--------------------------------+----------+----------+---------------------------+\n",
      "|     \u001b[1;33mresnet_v2_34_imagenet\u001b[0m      |  Module  |  1.0.0   |ResNet34 is a image class  |\n",
      "|                                |          |          |fication model trained wi  |\n",
      "|                                |          |          |th ImageNet-2012 dataset.  |\n",
      "|                                |          |          |                           |\n",
      "+--------------------------------+----------+----------+---------------------------+\n",
      "|     \u001b[1;33mresnet_v2_18_imagenet\u001b[0m      |  Module  |  1.0.0   |ResNet18 is a image class  |\n",
      "|                                |          |          |fication model trained wi  |\n",
      "|                                |          |          |th ImageNet-2012 dataset.  |\n",
      "|                                |          |          |                           |\n",
      "+--------------------------------+----------+----------+---------------------------+\n",
      "|     \u001b[1;33mresnet_v2_152_imagenet\u001b[0m     |  Module  |  1.0.1   |ResNet152 is a image clas  |\n",
      "|                                |          |          |sfication model trained w  |\n",
      "|                                |          |          |ith ImageNet-2012 dataset  |\n",
      "|                                |          |          |.                          |\n",
      "+--------------------------------+----------+----------+---------------------------+\n",
      "|     \u001b[1;33mresnet_v2_101_imagenet\u001b[0m     |  Module  |  1.0.1   |ResNet101 is a image clas  |\n",
      "|                                |          |          |sfication model trained w  |\n",
      "|                                |          |          |ith ImageNet-2012 dataset  |\n",
      "|                                |          |          |.                          |\n",
      "+--------------------------------+----------+----------+---------------------------+\n",
      "\n"
     ]
    }
   ],
   "source": [
    "'''\n",
    "通过关键字在服务端检索匹配的模型\n",
    "'''\n",
    "!hub search resnet"
   ]
  },
  {
   "cell_type": "code",
   "execution_count": 3,
   "metadata": {
    "collapsed": false
   },
   "outputs": [],
   "source": []
  },
  {
   "cell_type": "markdown",
   "metadata": {
    "collapsed": false
   },
   "source": [
    "# Step1、加载预训练模型\n",
    "\n",
    "由于猫狗分类是一个图像分类任务，因此我们使用经典的ResNet-50作为预训练模型。PaddleHub提供了丰富的图像分类预训练模型，包括了最新的神经网络架构搜索类的PNASNet，我们推荐您尝试不同的预训练模型来获得更好的性能。\n",
    "\n",
    "PaddleHub 还有着许多的图像分类预训练模型，更多信息参见PaddleHub官方网站\n",
    "\n",
    "加载module，并获取module的上下文环境，包括输入和输出的变量，以及Paddle Program；"
   ]
  },
  {
   "cell_type": "code",
   "execution_count": 4,
   "metadata": {
    "collapsed": false
   },
   "outputs": [
    {
     "name": "stderr",
     "output_type": "stream",
     "text": [
      "\u001b[32m[2020-04-04 18:01:32,986] [    INFO] - Installing resnet_v2_50_imagenet module\u001b[0m\n"
     ]
    },
    {
     "name": "stdout",
     "output_type": "stream",
     "text": [
      "Downloading resnet_v2_50_imagenet\n",
      "[==================================================] 100.00%\n",
      "Uncompress /home/aistudio/.paddlehub/tmp/tmppobhgwyu/resnet_v2_50_imagenet\n",
      "[==================================================] 100.00%\n"
     ]
    },
    {
     "name": "stderr",
     "output_type": "stream",
     "text": [
      "\u001b[32m[2020-04-04 18:01:44,252] [    INFO] - Successfully installed resnet_v2_50_imagenet-1.0.1\u001b[0m\n",
      "\u001b[32m[2020-04-04 18:01:44,580] [    INFO] - 267 pretrained paramaters loaded by PaddleHub\u001b[0m\n"
     ]
    }
   ],
   "source": [
    "\n",
    "import paddlehub as hub\n",
    "\n",
    "module = hub.Module(name=\"resnet_v2_50_imagenet\")\n",
    "\n",
    "input_dict, output_dict, program = module.context(\n",
    "    trainable=True)"
   ]
  },
  {
   "cell_type": "markdown",
   "metadata": {
    "collapsed": false
   },
   "source": [
    "# Step2、数据准备\n",
    "接着需要加载图片数据集。为了快速体验，我们直接加载paddlehub提供的猫狗分类数据集，如果想要使用自定义的数据进行体验，请查看[适配自定义数据](http://github.com/PaddlePaddle/PaddleHub/wiki/PaddleHub%E9%80%82%E9%85%8D%E8%87%AA%E5%AE%9A%E4%B9%89%E6%95%B0%E6%8D%AE%E5%AE%8C%E6%88%90F)\n",
    "\n",
    "如果想加载自定义数据集完成迁移学习，详细参见[自定义数据集](https://github.com/PaddlePaddle/PaddleHub/wiki/PaddleHub%E9%80%82%E9%85%8D%E8%87%AA%E5%AE%9A%E4%B9%89%E6%95%B0%E6%8D%AE%E5%AE%8C%E6%88%90FineTune)\n",
    "\n",
    "接着生成一个图像分类的reader，reader负责将dataset的数据进行预处理，接着以特定格式组织并输入给模型进行训练。\n",
    "\n",
    "当我们生成一个图像分类的reader时，需要指定输入图片的大小\n"
   ]
  },
  {
   "cell_type": "code",
   "execution_count": 5,
   "metadata": {
    "collapsed": false
   },
   "outputs": [
    {
     "name": "stdout",
     "output_type": "stream",
     "text": [
      "Downloading dog-cat.tar.gz\n",
      "[==================================================] 100.00%\n",
      "Uncompress /home/aistudio/.paddlehub/dataset/dog-cat.tar.gz\n",
      "[==================================================] 100.00%\n"
     ]
    },
    {
     "name": "stderr",
     "output_type": "stream",
     "text": [
      "\u001b[32m[2020-04-04 18:02:34,783] [    INFO] - Dataset label map = {'cat': 0, 'dog': 1}\u001b[0m\n"
     ]
    }
   ],
   "source": [
    "\n",
    "# 直接用PaddleHub提供的数据集\n",
    "dataset = hub.dataset.DogCat()\n",
    "\n",
    "data_reader = hub.reader.ImageClassificationReader(\n",
    "    image_width=module.get_expected_image_width(),\n",
    "    image_height=module.get_expected_image_height(),\n",
    "    images_mean=module.get_pretrained_images_mean(),\n",
    "    images_std=module.get_pretrained_images_std(),\n",
    "    dataset=dataset)"
   ]
  },
  {
   "cell_type": "markdown",
   "metadata": {
    "collapsed": false
   },
   "source": [
    "# Step3、配置策略\n",
    "\n",
    "\n",
    "在进行Finetune前，我们可以设置一些运行时的配置，例如如下代码中的配置，表示：\n",
    "\n",
    "* `use_cuda`：设置为False表示使用CPU进行训练。如果您本机支持GPU，且安装的是GPU版本的PaddlePaddle，我们建议您将这个选项设置为True；\n",
    "\n",
    "* `epoch`：要求Finetune的任务只遍历1次训练集；\n",
    "\n",
    "* `batch_size`：每次训练的时候，给模型输入的每批数据大小为32，模型训练时能够并行处理批数据，因此batch_size越大，训练的效率越高，但是同时带来了内存的负荷，过大的batch_size可能导致内存不足而无法训练，因此选择一个合适的batch_size是很重要的一步；\n",
    "\n",
    "* `log_interval`：每隔10 step打印一次训练日志；\n",
    "\n",
    "* `eval_interval`：每隔50 step在验证集上进行一次性能评估；\n",
    "\n",
    "* `checkpoint_dir`：将训练的参数和数据保存到cv_finetune_turtorial_demo目录中；\n",
    "\n",
    "* `strategy`：使用DefaultFinetuneStrategy策略进行finetune；\n",
    "\n",
    "更多运行配置，请查看[RunConfig](https://github.com/PaddlePaddle/PaddleHub/wiki/PaddleHub-API:-RunConfig)\n",
    "\n",
    "同时PaddleHub提供了许多优化策略，如`AdamWeightDecayStrategy`、`ULMFiTStrategy`、`DefaultFinetuneStrategy`等，详细信息参见[策略](https://github.com/PaddlePaddle/PaddleHub/wiki/PaddleHub-API:-Strategy)\n"
   ]
  },
  {
   "cell_type": "code",
   "execution_count": 6,
   "metadata": {
    "collapsed": false
   },
   "outputs": [
    {
     "name": "stderr",
     "output_type": "stream",
     "text": [
      "\u001b[32m[2020-04-04 18:02:34,789] [    INFO] - Checkpoint dir: cv_finetune_turtorial_demo\u001b[0m\n"
     ]
    }
   ],
   "source": [
    "\n",
    "config = hub.RunConfig(\n",
    "    use_cuda=False,                              #是否使用GPU训练，默认为False；\n",
    "    num_epoch=1,                                #Fine-tune的轮数；\n",
    "    checkpoint_dir=\"cv_finetune_turtorial_demo\",#模型checkpoint保存路径, 若用户没有指定，程序会自动生成；\n",
    "    batch_size=32,                              #训练的批大小，如果使用GPU，请根据实际情况调整batch_size；\n",
    "    eval_interval=50,                           #模型评估的间隔，默认每100个step评估一次验证集；\n",
    "    strategy=hub.finetune.strategy.DefaultFinetuneStrategy())  #Fine-tune优化策略；"
   ]
  },
  {
   "cell_type": "markdown",
   "metadata": {
    "collapsed": false
   },
   "source": [
    "# Step4、迁移组网\n",
    "\n",
    "有了合适的预训练模型和准备要迁移的数据集后，我们开始组建一个Task。\n",
    "\n",
    "由于猫狗分类是一个二分类的任务，而我们下载的分类module是在ImageNet数据集上训练的千分类模型，所以我们需要对模型进行简单的微调，把模型改造为一个二分类模型：\n",
    "\n",
    "\n",
    "1. 从输出变量中找到特征图提取层feature_map；\n",
    "2. 在feature_map后面接入一个全连接层，生成Task；"
   ]
  },
  {
   "cell_type": "code",
   "execution_count": 7,
   "metadata": {
    "collapsed": false
   },
   "outputs": [
    {
     "name": "stderr",
     "output_type": "stream",
     "text": [
      "2020-04-04 18:02:35,138-WARNING: paddle.fluid.layers.py_reader() may be deprecated in the near future. Please use paddle.fluid.io.DataLoader.from_generator() instead.\n",
      "\u001b[32m[2020-04-04 18:02:35,290] [    INFO] - Strategy with scheduler: {'warmup': 0.0, 'linear_decay': {'start_point': 1.0, 'end_learning_rate': 0.0}, 'noam_decay': False, 'discriminative': {'blocks': 0, 'factor': 2.6}, 'gradual_unfreeze': 0, 'slanted_triangle': {'cut_fraction': 0.0, 'ratio': 32}}, regularization: {'L2': 0.001, 'L2SP': 0.0, 'weight_decay': 0.0} and clip: {'GlobalNorm': 0.0, 'Norm': 0.0}\u001b[0m\n",
      "\u001b[32m[2020-04-04 18:02:39,780] [    INFO] - Try loading checkpoint from cv_finetune_turtorial_demo/ckpt.meta\u001b[0m\n",
      "\u001b[32m[2020-04-04 18:02:40,889] [    INFO] - PaddleHub model checkpoint loaded. current_epoch=2, global_step=564, best_score=0.99105\u001b[0m\n",
      "\u001b[32m[2020-04-04 18:02:40,890] [    INFO] - PaddleHub finetune start\u001b[0m\n",
      "\u001b[32m[2020-04-04 18:02:40,891] [    INFO] - PaddleHub finetune finished.\u001b[0m\n"
     ]
    }
   ],
   "source": [
    "\n",
    "\n",
    "\n",
    "feature_map = output_dict[\"feature_map\"]\n",
    "\n",
    "feed_list = [input_dict[\"image\"].name]\n",
    "\n",
    "#ImageClassifierTask：通用的分类任务Task，该Task基于输入的特征，添加一个或多个全连接层来创建一个分类任务用于Fine-tune\n",
    "task = hub.ImageClassifierTask(\n",
    "    data_reader=data_reader, #提供数据的reader\n",
    "    feed_list=feed_list,     #待feed变量的名字列表\n",
    "    feature=feature_map,     #输入的特征矩阵\n",
    "    num_classes=dataset.num_labels, #分类任务的类别数量\n",
    "    config=config)                  #运行配置\n"
   ]
  },
  {
   "cell_type": "markdown",
   "metadata": {
    "collapsed": false
   },
   "source": [
    "# Step5、Fine-tune"
   ]
  },
  {
   "cell_type": "code",
   "execution_count": 8,
   "metadata": {
    "collapsed": false
   },
   "outputs": [
    {
     "name": "stderr",
     "output_type": "stream",
     "text": [
      "\u001b[32m[2020-04-04 18:02:40,895] [    INFO] - PaddleHub finetune start\u001b[0m\n",
      "\u001b[32m[2020-04-04 18:02:40,896] [    INFO] - PaddleHub finetune finished.\u001b[0m\n"
     ]
    }
   ],
   "source": [
    "run_states = task.finetune_and_eval()"
   ]
  },
  {
   "cell_type": "markdown",
   "metadata": {
    "collapsed": false
   },
   "source": [
    "# Step6、预测\n",
    "\n",
    "当Finetune完成后，我们使用模型来进行预测，先通过以下命令来获取测试的图片\n",
    "\n",
    "注意：以下示例仍然以猫狗分类为例子，其他数据集所用的测试图片请自行准备"
   ]
  },
  {
   "cell_type": "code",
   "execution_count": 9,
   "metadata": {
    "collapsed": false
   },
   "outputs": [
    {
     "name": "stdout",
     "output_type": "stream",
     "text": [
      "--2020-04-04 18:02:41--  https://paddlehub.bj.bcebos.com/resources/test_img_cat.jpg\n",
      "Resolving paddlehub.bj.bcebos.com (paddlehub.bj.bcebos.com)... 182.61.200.195, 182.61.200.229\n",
      "Connecting to paddlehub.bj.bcebos.com (paddlehub.bj.bcebos.com)|182.61.200.195|:443... connected.\n",
      "HTTP request sent, awaiting response... 200 OK\n",
      "Length: 36914 (36K) [image/jpeg]\n",
      "Saving to: ‘test_img_cat.jpg.1’\n",
      "\n",
      "test_img_cat.jpg.1  100%[===================>]  36.05K  --.-KB/s    in 0.01s   \n",
      "\n",
      "2020-04-04 18:02:41 (3.56 MB/s) - ‘test_img_cat.jpg.1’ saved [36914/36914]\n",
      "\n",
      "--2020-04-04 18:02:41--  https://paddlehub.bj.bcebos.com/resources/test_img_dog.jpg\n",
      "Resolving paddlehub.bj.bcebos.com (paddlehub.bj.bcebos.com)... 182.61.200.195, 182.61.200.229\n",
      "Connecting to paddlehub.bj.bcebos.com (paddlehub.bj.bcebos.com)|182.61.200.195|:443... connected.\n",
      "HTTP request sent, awaiting response... 200 OK\n",
      "Length: 113952 (111K) [image/jpeg]\n",
      "Saving to: ‘test_img_dog.jpg.1’\n",
      "\n",
      "test_img_dog.jpg.1  100%[===================>] 111.28K  --.-KB/s    in 0.04s   \n",
      "\n",
      "2020-04-04 18:02:41 (2.87 MB/s) - ‘test_img_dog.jpg.1’ saved [113952/113952]\n",
      "\n"
     ]
    }
   ],
   "source": [
    "!wget --no-check-certificate https://paddlehub.bj.bcebos.com/resources/test_img_cat.jpg\n",
    "!wget --no-check-certificate https://paddlehub.bj.bcebos.com/resources/test_img_dog.jpg"
   ]
  },
  {
   "cell_type": "code",
   "execution_count": 10,
   "metadata": {
    "collapsed": false
   },
   "outputs": [
    {
     "name": "stderr",
     "output_type": "stream",
     "text": [
      "\u001b[32m[2020-04-04 18:02:41,713] [    INFO] - Load the best model from cv_finetune_turtorial_demo/best_model\u001b[0m\n",
      "2020-04-04 18:02:42,041-WARNING: paddle.fluid.layers.py_reader() may be deprecated in the near future. Please use paddle.fluid.io.DataLoader.from_generator() instead.\n",
      "\u001b[32m[2020-04-04 18:02:43,097] [    INFO] - PaddleHub predict start\u001b[0m\n",
      "\u001b[32m[2020-04-04 18:02:43,528] [    INFO] - PaddleHub predict finished.\u001b[0m\n"
     ]
    },
    {
     "name": "stdout",
     "output_type": "stream",
     "text": [
      "[array([[0.00153231, 0.9984676 ]], dtype=float32)]\n",
      "[1]\n",
      "input 1 is test_img_dog.jpg, and the predict result is dog\n"
     ]
    }
   ],
   "source": [
    "import numpy as np\n",
    "\n",
    "data = [\"test_img_dog.jpg\"]\n",
    "label_map = dataset.label_dict()\n",
    "\n",
    "index = 0\n",
    "run_states = task.predict(data=data)\n",
    "results = [run_state.run_results for run_state in run_states]\n",
    "\n",
    "for batch_result in results:\n",
    "    print(batch_result)\n",
    "    batch_result = np.argmax(batch_result, axis=2)[0]\n",
    "    print(batch_result)\n",
    "    for result in batch_result:\n",
    "        index += 1\n",
    "        result = label_map[result]\n",
    "        print(\"input %i is %s, and the predict result is %s\" %\n",
    "              (index, data[index - 1], result))"
   ]
  }
 ],
 "metadata": {
  "kernelspec": {
   "display_name": "PaddlePaddle 1.7.0 (Python 3.5)",
   "language": "python",
   "name": "py35-paddle1.2.0"
  },
  "language_info": {
   "codemirror_mode": {
    "name": "ipython",
    "version": 3
   },
   "file_extension": ".py",
   "mimetype": "text/x-python",
   "name": "python",
   "nbconvert_exporter": "python",
   "pygments_lexer": "ipython3",
   "version": "3.7.4"
  }
 },
 "nbformat": 4,
 "nbformat_minor": 1
}
